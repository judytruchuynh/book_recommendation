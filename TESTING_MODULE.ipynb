{
 "cells": [
  {
   "cell_type": "code",
   "execution_count": 2,
   "id": "de882b1c",
   "metadata": {},
   "outputs": [],
   "source": [
    "%run LOADING_MODULE.py\n",
    "%run SIMILARITY_MODULE.py"
   ]
  },
  {
   "cell_type": "code",
   "execution_count": 8,
   "id": "71abed72",
   "metadata": {},
   "outputs": [
    {
     "name": "stdout",
     "output_type": "stream",
     "text": [
      "Enter U for calculate similarity of 2 users,\n",
      "enter B for calculate similarity of 2 books,\n",
      "enter NU to calculate the first-n similar users to the target user,\n",
      "enter NB to calculate the first-n similar books to the target book,\n",
      "enter E to exit the program!\n",
      "NB\n",
      "Please, enter a target ISBN: 038550120X\n",
      "Please enter a number: 5\n",
      "The first-5 similar books to the target book have ISBN 038550120X are:  ['0316666343', '0385504209', '0385484518', '0375706771', '0316601950']\n"
     ]
    }
   ],
   "source": [
    "%run LOADING_MODULE.py\n",
    "%run SIMILARITY_MODULE.py\n",
    "\n",
    "\n",
    "def main():\n",
    "    try:\n",
    "        flag = input('Enter U for calculate similarity of 2 users,\\n' \n",
    "                     'enter B for calculate similarity of 2 books,\\n'\n",
    "                     'enter NU to calculate the first-n similar users to the target user,\\n'\n",
    "                     'enter NB to calculate the first-n similar books to the target book,\\n'\n",
    "                     'enter E to exit the program!\\n')\n",
    "\n",
    "        if flag.strip().upper() == 'U':\n",
    "            user1 =  int(input('Please enter the first userID: '))\n",
    "            user2 =  int(input('Please enter the second userID: '))\n",
    "            method = input(\"Enter 1 out of 5 these functions: Euclidean, Jaccard, Manhattan, Cosine, Pearson: \")\n",
    "            result= users_similarity(user_preferences, user1, user2, method)\n",
    "            print(f\"Similarity between 2 users have userID {user1} and {user2} by using {method} function is :\", result)\n",
    "\n",
    "        elif flag.strip().upper() == 'B':\n",
    "            ISBN1 = input('Please enter the first ISBN: ')\n",
    "            ISBN2 = input('Please enter the second ISBN: ')\n",
    "            method = input(\"Enter 1 out of 5 these functions: Euclidean, Jaccard, Manhattan, Cosine, Pearson: \")\n",
    "            result= books_similarity(user_preferences, ISBN1, ISBN2, method)\n",
    "            print(f\"Similarity between 2 books have ISBN {ISBN1} and {ISBN2} by using {method} function is :\", result)\n",
    "\n",
    "        elif flag.strip().upper() == 'NB':\n",
    "            target_ISBN=input(\"Please, enter a target ISBN: \")\n",
    "            n=int(input(\"Please enter a number: \"))\n",
    "            result=find_similar_books(user_preferences, target_ISBN, n)\n",
    "            print(f\"The first-{n} similar books to the target book have ISBN {target_ISBN} are: \", result)\n",
    "\n",
    "        elif flag.strip().upper() == 'NU':\n",
    "            user_id=int(input(\"Please, enter a target userID: \"))\n",
    "            n=int(input(\"Please enter a number: \"))    \n",
    "            result=find_similar_users(user_preferences, user_id, n)\n",
    "            print(f\"The first-{n} similar users to the target user have userID {user_id} are: \", result)\n",
    "\n",
    "        elif flag.strip().upper() == 'E': \n",
    "            print(\"Exit the program successfully!!\")\n",
    "        else:\n",
    "            print('Enter correct the option!')\n",
    "            \n",
    "    except Exception as e:\n",
    "        print(\"An error occurred: \", e)\n",
    "\n",
    "main()"
   ]
  },
  {
   "cell_type": "code",
   "execution_count": 4,
   "id": "c1b0dc0a",
   "metadata": {},
   "outputs": [],
   "source": [
    "#[43246, 11676, 35859, 200226]"
   ]
  },
  {
   "cell_type": "code",
   "execution_count": null,
   "id": "d4f798a7",
   "metadata": {},
   "outputs": [],
   "source": [
    "#['038550120X', '0316666343', '0385504209', '0385484518']"
   ]
  }
 ],
 "metadata": {
  "kernelspec": {
   "display_name": "Python 3 (ipykernel)",
   "language": "python",
   "name": "python3"
  },
  "language_info": {
   "codemirror_mode": {
    "name": "ipython",
    "version": 3
   },
   "file_extension": ".py",
   "mimetype": "text/x-python",
   "name": "python",
   "nbconvert_exporter": "python",
   "pygments_lexer": "ipython3",
   "version": "3.9.13"
  }
 },
 "nbformat": 4,
 "nbformat_minor": 5
}
